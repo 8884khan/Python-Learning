{
 "cells": [
  {
   "cell_type": "code",
   "execution_count": 1,
   "id": "531492db",
   "metadata": {},
   "outputs": [
    {
     "name": "stdout",
     "output_type": "stream",
     "text": [
      "x= 10\n",
      "y= 20\n",
      "z= 30\n"
     ]
    }
   ],
   "source": [
    "#instance variable\n",
    "class demo:\n",
    "    def __init__(self):\n",
    "        self.x =10\n",
    "    def fun(self):\n",
    "        self.y = 20\n",
    "ob = demo()\n",
    "ob.fun()\n",
    "ob.z =30\n",
    "print(\"x=\",ob.x)\n",
    "print(\"y=\",ob.y)\n",
    "print(\"z=\",ob.z)"
   ]
  },
  {
   "cell_type": "code",
   "execution_count": 9,
   "id": "676191d6",
   "metadata": {},
   "outputs": [
    {
     "name": "stdout",
     "output_type": "stream",
     "text": [
      "ob1 values= 10 20\n",
      "ob2 values=  10 20\n",
      "2482357158480\n",
      "2482357158096\n",
      "10\n",
      "ob1 values= 10 111\n",
      "ob2 values=  10 20\n"
     ]
    }
   ],
   "source": [
    "#static variable\n",
    "class demo:\n",
    "    x =10 #static variable\n",
    "    def __init__(self):\n",
    "        self.y = 20 #instance variable\n",
    "ob1=demo()\n",
    "ob2=demo()\n",
    "print(\"ob1 values=\",ob1.x,ob1.y)\n",
    "print(\"ob2 values= \",ob2.x,ob2.y)\n",
    "print(id(ob1))\n",
    "print(id(ob2))\n",
    "print(demo.x)\n",
    "ob1.y = 111\n",
    "print(\"ob1 values=\",ob1.x,ob1.y)\n",
    "print(\"ob2 values= \",ob2.x,ob2.y)\n",
    "\n",
    "\n"
   ]
  },
  {
   "cell_type": "code",
   "execution_count": 14,
   "id": "77a5afb1",
   "metadata": {},
   "outputs": [
    {
     "name": "stdout",
     "output_type": "stream",
     "text": [
      "30\n",
      "2022-05-13\n"
     ]
    }
   ],
   "source": [
    "# static and a class method\n",
    "from datetime import date\n",
    "class person:\n",
    "    def __init__(self,name,age):\n",
    "        self.name=name\n",
    "        self.age=age\n",
    "    @classmethod\n",
    "    def frombirthdate(cls,name,age):\n",
    "        return cls(name,date.today())\n",
    "    @staticmethod\n",
    "    def isAdult(age):\n",
    "        return age>18\n",
    "p1 = person(\"shahbaz\",30)\n",
    "p2 = person.frombirthdate(\"shahbaz\",1992)\n",
    "print(p1.age)\n",
    "print(p2.age)"
   ]
  }
 ],
 "metadata": {
  "kernelspec": {
   "display_name": "Python 3 (ipykernel)",
   "language": "python",
   "name": "python3"
  },
  "language_info": {
   "codemirror_mode": {
    "name": "ipython",
    "version": 3
   },
   "file_extension": ".py",
   "mimetype": "text/x-python",
   "name": "python",
   "nbconvert_exporter": "python",
   "pygments_lexer": "ipython3",
   "version": "3.9.7"
  }
 },
 "nbformat": 4,
 "nbformat_minor": 5
}
